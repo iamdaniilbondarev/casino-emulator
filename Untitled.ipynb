{
 "cells": [
  {
   "cell_type": "code",
   "execution_count": 3,
   "id": "2ec22b16",
   "metadata": {},
   "outputs": [],
   "source": [
    "import scipy\n",
    "import numpy as np"
   ]
  },
  {
   "cell_type": "code",
   "execution_count": 11,
   "id": "a08bf417",
   "metadata": {},
   "outputs": [
    {
     "data": {
      "text/plain": [
       "array([4])"
      ]
     },
     "execution_count": 11,
     "metadata": {},
     "output_type": "execute_result"
    }
   ],
   "source": [
    "dice_realization = np.random.choice(a=6, size=1, p=[0.16, 0.16, 0.16, 0.1, 0.1, 0.32])[0]"
   ]
  },
  {
   "cell_type": "code",
   "execution_count": 13,
   "id": "14082df2",
   "metadata": {},
   "outputs": [],
   "source": [
    "import requests"
   ]
  },
  {
   "cell_type": "code",
   "execution_count": 72,
   "id": "dfa3c10a",
   "metadata": {},
   "outputs": [],
   "source": [
    "r = requests.get(url='http://127.0.0.1:5000/get-realization', params={'dice_num':'12qq'})"
   ]
  },
  {
   "cell_type": "code",
   "execution_count": 73,
   "id": "7cffb7a2",
   "metadata": {},
   "outputs": [
    {
     "data": {
      "text/plain": [
       "{'error': 'Not a valid dice num 12qq'}"
      ]
     },
     "execution_count": 73,
     "metadata": {},
     "output_type": "execute_result"
    }
   ],
   "source": [
    "r.json()"
   ]
  },
  {
   "cell_type": "code",
   "execution_count": null,
   "id": "8a7299a5",
   "metadata": {},
   "outputs": [],
   "source": [
    "curl http://127.0.0.1:5000/get-realization?dice_num=1"
   ]
  }
 ],
 "metadata": {
  "kernelspec": {
   "display_name": "Python 3 (ipykernel)",
   "language": "python",
   "name": "python3"
  },
  "language_info": {
   "codemirror_mode": {
    "name": "ipython",
    "version": 3
   },
   "file_extension": ".py",
   "mimetype": "text/x-python",
   "name": "python",
   "nbconvert_exporter": "python",
   "pygments_lexer": "ipython3",
   "version": "3.9.10"
  }
 },
 "nbformat": 4,
 "nbformat_minor": 5
}
